{
 "cells": [
  {
   "cell_type": "markdown",
   "metadata": {
    "toc": true
   },
   "source": [
    "<h1>Table of Contents<span class=\"tocSkip\"></span></h1>\n",
    "<div class=\"toc\"><ul class=\"toc-item\"><li><span><a href=\"#Mathjax-Commands\" data-toc-modified-id=\"Mathjax-Commands-1\"><span class=\"toc-item-num\">1&nbsp;&nbsp;</span>Mathjax Commands</a></span><ul class=\"toc-item\"><li><span><a href=\"#Symbols\" data-toc-modified-id=\"Symbols-1.1\"><span class=\"toc-item-num\">1.1&nbsp;&nbsp;</span>Symbols</a></span></li><li><span><a href=\"#Tricky-Symbols\" data-toc-modified-id=\"Tricky-Symbols-1.2\"><span class=\"toc-item-num\">1.2&nbsp;&nbsp;</span>Tricky Symbols</a></span></li><li><span><a href=\"#Prefixes\" data-toc-modified-id=\"Prefixes-1.3\"><span class=\"toc-item-num\">1.3&nbsp;&nbsp;</span>Prefixes</a></span></li><li><span><a href=\"#Commands\" data-toc-modified-id=\"Commands-1.4\"><span class=\"toc-item-num\">1.4&nbsp;&nbsp;</span>Commands</a></span></li></ul></li><li><span><a href=\"#HTML-Commands\" data-toc-modified-id=\"HTML-Commands-2\"><span class=\"toc-item-num\">2&nbsp;&nbsp;</span>HTML Commands</a></span></li></ul></div>"
   ]
  },
  {
   "cell_type": "markdown",
   "metadata": {},
   "source": [
    "# Mathjax Commands\n",
    "\n",
    "See this website: http://detexify.kirelabs.org/classify.html"
   ]
  },
  {
   "cell_type": "markdown",
   "metadata": {},
   "source": [
    "## Symbols\n",
    "\n",
    "$\\Large \\sigma$\n",
    ": `\\sigma`\n",
    "\n",
    "$\\Large \\xi$\n",
    ": `\\xi`\n",
    "\n",
    "$\\Large \\lambda$\n",
    ": `\\lambda`\n",
    "\n",
    "$\\Large \\partial$\n",
    ": `\\partial`\n",
    "\n",
    "$\\Large \\phi$\n",
    ": `\\phi`\n",
    "\n",
    "$\\Large \\iff$\n",
    ": `\\iff`\n",
    "\n",
    "$\\Large \\propto$\n",
    ": `\\propto`"
   ]
  },
  {
   "cell_type": "markdown",
   "metadata": {
    "ExecuteTime": {
     "end_time": "2021-01-23T16:59:54.702182Z",
     "start_time": "2021-01-23T16:59:54.700044Z"
    }
   },
   "source": [
    "## Tricky Symbols\n",
    "\n",
    "$\\Large \\stackrel{!}{=}$\n",
    ": `\\stackrel{!}{=}`"
   ]
  },
  {
   "cell_type": "markdown",
   "metadata": {
    "ExecuteTime": {
     "end_time": "2021-01-23T17:08:21.205954Z",
     "start_time": "2021-01-23T17:08:21.202916Z"
    }
   },
   "source": [
    "## Prefixes\n",
    "\n",
    "$\\Large \\hat x$\n",
    ": `\\hat x`\n",
    "\n",
    "$\\Large \\vec x$\n",
    ": `\\vec x`\n",
    "\n",
    "$\\ x$\n",
    ": `\\vec x`\n",
    "\n",
    "$\\Bigg( \\bigg( \\Big( \\big( (x$\n",
    ": `\\Bigg( \\bigg( \\Big( \\big( (x`\n",
    "\n"
   ]
  },
  {
   "cell_type": "markdown",
   "metadata": {},
   "source": [
    "## Commands\n",
    "\n",
    "<table style=\"width:100%\">\n",
    "  <tr>\n",
    "    <th>Expression</th>\n",
    "    <th>Mathjax</th>\n",
    "  </tr>\n",
    "  <tr>\n",
    "<td>\n",
    "$\\mathcal f(x) = \n",
    "\\begin{cases} \n",
    "1 & x>0  \\\\\n",
    "0 & x\\leq 0\n",
    "\\end{cases}\n",
    "$</td>\n",
    "<td><pre><code>$\n",
    "\\mathcal f(x) = \n",
    "\\begin{cases} \n",
    "1 & x>0  \\\\\n",
    "0 & x\\leq 0\n",
    "\\end{cases}\n",
    "$</code></pre></td>\n",
    "  </tr>\n",
    "  <tr>\n",
    "    <td>asdasd</td>\n",
    "    <td>Jackson</td>\n",
    "  </tr>\n",
    "</table>\n",
    "\n",
    "==================================================================================\n",
    "\n",
    "$\\begin{aligned}\n",
    "\\mathcal f(x) &= 2(x+3) \\\\\n",
    "&= 2x + 6\n",
    "\\end{aligned}$\n",
    "\n",
    "```\n",
    "$\n",
    "\\begin{aligned}\n",
    "\\mathcal f(x) &= 2(x+3) \\\\\n",
    "&= 2x + 6\n",
    "\\end{aligned}\n",
    "$\n",
    "```\n",
    "\n",
    "==================================================================================\n",
    "\n",
    "\n",
    "$\\underset{x}{\\mathrm{argmin}}\\space (x-2)^2$ \n",
    "\n",
    "```\n",
    "$\n",
    "\\underset{x}{\\mathrm{argmin}}\\space (x-2)^2\n",
    "$ \n",
    "```\n",
    "\n",
    "==================================================================================\n",
    "\n",
    "$\n",
    "X(m,n) = \\left\\{\\begin{array}{lr}\n",
    "    x(n), & \\text{for } 0\\leq n\\leq 1\\\\\n",
    "    x(n-1), & \\text{for } 0\\leq n\\leq 1\\\\\n",
    "    x(n-1), & \\text{for } 0\\leq n\\leq 1\n",
    "    \\end{array}\\right\\} = xy\n",
    "$\n",
    "\n",
    "```\n",
    "$\n",
    "X(m,n) = \\left\\{\\begin{array}{lr}\n",
    "    x(n), & \\text{for } 0\\leq n\\leq 1\\\\\n",
    "    x(n-1), & \\text{for } 0\\leq n\\leq 1\\\\\n",
    "    x(n-1), & \\text{for } 0\\leq n\\leq 1\n",
    "    \\end{array}\\right\\} = xy\n",
    "$\n",
    "```\n",
    "\n",
    "Src: https://tex.stackexchange.com/a/240870\n"
   ]
  },
  {
   "cell_type": "markdown",
   "metadata": {},
   "source": [
    "# HTML Commands\n",
    "\n",
    "<div class=\"alert alert-warning\">\n",
    "<b>NOTE</b> alert-warning\n",
    "</div>\n",
    "\n",
    "<div class=\"alert alert-success\">\n",
    "<b>NOTE</b> alert-success\n",
    "</div>\n",
    "\n",
    "<div class=\"alert alert-info\">\n",
    "<b>NOTE</b> alert-info\n",
    "</div>\n",
    "\n",
    "<div class=\"alert alert-danger\">\n",
    "<b>NOTE</b> alert-danger\n",
    "</div>\n",
    "\n",
    "```\n",
    "<div class=\"alert alert-warning\">\n",
    "<b>NOTE</b> Sample text.\n",
    "</div>\n",
    "```\n",
    "\n",
    "-----\n",
    "\n"
   ]
  }
 ],
 "metadata": {
  "kernelspec": {
   "display_name": "Python 3",
   "language": "python",
   "name": "python3"
  },
  "language_info": {
   "codemirror_mode": {
    "name": "ipython",
    "version": 3
   },
   "file_extension": ".py",
   "mimetype": "text/x-python",
   "name": "python",
   "nbconvert_exporter": "python",
   "pygments_lexer": "ipython3",
   "version": "3.8.5"
  },
  "toc": {
   "base_numbering": 1,
   "nav_menu": {},
   "number_sections": true,
   "sideBar": true,
   "skip_h1_title": false,
   "title_cell": "Table of Contents",
   "title_sidebar": "Contents",
   "toc_cell": true,
   "toc_position": {},
   "toc_section_display": true,
   "toc_window_display": false
  }
 },
 "nbformat": 4,
 "nbformat_minor": 4
}
