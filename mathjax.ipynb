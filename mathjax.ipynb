{
 "cells": [
  {
   "cell_type": "markdown",
   "metadata": {
    "toc": true
   },
   "source": [
    "<h1>Table of Contents<span class=\"tocSkip\"></span></h1>\n",
    "<div class=\"toc\"><ul class=\"toc-item\"><li><span><a href=\"#Frequently-Used-Mathjax-Commands/Symbols\" data-toc-modified-id=\"Frequently-Used-Mathjax-Commands/Symbols-1\"><span class=\"toc-item-num\">1&nbsp;&nbsp;</span>Frequently Used Mathjax Commands/Symbols</a></span><ul class=\"toc-item\"><li><span><a href=\"#Symbols\" data-toc-modified-id=\"Symbols-1.1\"><span class=\"toc-item-num\">1.1&nbsp;&nbsp;</span>Symbols</a></span></li><li><span><a href=\"#Tricky-Symbols\" data-toc-modified-id=\"Tricky-Symbols-1.2\"><span class=\"toc-item-num\">1.2&nbsp;&nbsp;</span>Tricky Symbols</a></span></li><li><span><a href=\"#Addons\" data-toc-modified-id=\"Addons-1.3\"><span class=\"toc-item-num\">1.3&nbsp;&nbsp;</span>Addons</a></span></li><li><span><a href=\"#Commands\" data-toc-modified-id=\"Commands-1.4\"><span class=\"toc-item-num\">1.4&nbsp;&nbsp;</span>Commands</a></span></li></ul></li></ul></div>"
   ]
  },
  {
   "cell_type": "code",
   "execution_count": 2,
   "metadata": {},
   "outputs": [
    {
     "data": {
      "text/html": [
       "<style>\n",
       "</style>\n"
      ],
      "text/plain": [
       "<IPython.core.display.HTML object>"
      ]
     },
     "metadata": {},
     "output_type": "display_data"
    }
   ],
   "source": [
    "%%html\n",
    "<style>\n",
    "</style>"
   ]
  },
  {
   "cell_type": "markdown",
   "metadata": {},
   "source": [
    "# Frequently Used Mathjax Commands/Symbols\n",
    "\n",
    "See this website: http://detexify.kirelabs.org/classify.html"
   ]
  },
  {
   "cell_type": "markdown",
   "metadata": {},
   "source": [
    "## Symbols\n",
    "\n",
    "$\\Large \\sigma$\n",
    ": `\\sigma`\n",
    "\n",
    "$\\Large \\xi$\n",
    ": `\\xi`\n",
    "\n",
    "$\\Large \\lambda$\n",
    ": `\\lambda`\n",
    "\n",
    "$\\Large \\partial$\n",
    ": `\\partial`\n",
    "\n",
    "$\\Large \\phi$\n",
    ": `\\phi`\n",
    "\n",
    "$\\Large \\iff$\n",
    ": `\\iff`\n",
    "\n",
    "$\\Large \\propto$\n",
    ": `\\propto`"
   ]
  },
  {
   "cell_type": "markdown",
   "metadata": {
    "ExecuteTime": {
     "end_time": "2021-01-23T16:59:54.702182Z",
     "start_time": "2021-01-23T16:59:54.700044Z"
    }
   },
   "source": [
    "## Tricky Symbols\n",
    "\n",
    "$\\Large \\stackrel{!}{=}$\n",
    ": `\\stackrel{!}{=}`"
   ]
  },
  {
   "cell_type": "markdown",
   "metadata": {
    "ExecuteTime": {
     "end_time": "2021-01-23T17:08:21.205954Z",
     "start_time": "2021-01-23T17:08:21.202916Z"
    }
   },
   "source": [
    "## Addons\n",
    "\n",
    "$\\Large \\hat x$\n",
    ": `\\hat x`\n",
    "\n",
    "$\\Large \\vec x$\n",
    ": `\\vec x`\n",
    "\n",
    "$\\ x$\n",
    ": `\\vec x`\n",
    "\n",
    "$\\Bigg( \\bigg( \\Big( \\big( (x$\n",
    ": `$\\Bigg( \\bigg( \\Big( \\big( (x`\n",
    "\n"
   ]
  },
  {
   "cell_type": "markdown",
   "metadata": {},
   "source": [
    "## Commands\n",
    "\n",
    "$\n",
    "\\mathcal f(x) = \n",
    "\\begin{cases} \n",
    "1 & x>0  \\\\\n",
    "0 & x\\leq 0\n",
    "\\end{cases}\n",
    "$\n",
    "\n",
    "```\n",
    "$\n",
    "\\mathcal f(x) = \n",
    "\\begin{cases} \n",
    "1 & x>0  \\\\\n",
    "0 & x\\leq 0\n",
    "\\end{cases}\n",
    "$\n",
    "```\n",
    "\n",
    "------\n",
    "\n",
    "$\\begin{aligned}\n",
    "\\mathcal f(x) &= 2(x+3) \\\\\n",
    "&= 2x + 6\n",
    "\\end{aligned}$\n",
    "\n",
    "```\n",
    "$\n",
    "\\begin{aligned}\n",
    "\\mathcal f(x) &= 2(x+3) \\\\\n",
    "&= 2x + 6\n",
    "\\end{aligned}\n",
    "$\n",
    "```\n",
    "\n",
    "------\n",
    "\n",
    "\n",
    "$\\underset{x}{\\mathrm{argmin}}\\space (x-2)^2$ \n",
    "\n",
    "```\n",
    "$\n",
    "\\underset{x}{\\mathrm{argmin}}\\space (x-2)^2\n",
    "$ \n",
    "```\n",
    "\n",
    "------\n",
    "\n",
    "$\n",
    "X(m,n) = \\left\\{\\begin{array}{lr}\n",
    "    x(n), & \\text{for } 0\\leq n\\leq 1\\\\\n",
    "    x(n-1), & \\text{for } 0\\leq n\\leq 1\\\\\n",
    "    x(n-1), & \\text{for } 0\\leq n\\leq 1\n",
    "    \\end{array}\\right\\} = xy\n",
    "$\n",
    "\n",
    "```\n",
    "$\n",
    "X(m,n) = \\left\\{\\begin{array}{lr}\n",
    "    x(n), & \\text{for } 0\\leq n\\leq 1\\\\\n",
    "    x(n-1), & \\text{for } 0\\leq n\\leq 1\\\\\n",
    "    x(n-1), & \\text{for } 0\\leq n\\leq 1\n",
    "    \\end{array}\\right\\} = xy\n",
    "$\n",
    "```\n",
    "\n",
    "Src: https://tex.stackexchange.com/a/240870\n"
   ]
  }
 ],
 "metadata": {
  "kernelspec": {
   "display_name": "Python 3",
   "language": "python",
   "name": "python3"
  },
  "language_info": {
   "codemirror_mode": {
    "name": "ipython",
    "version": 3
   },
   "file_extension": ".py",
   "mimetype": "text/x-python",
   "name": "python",
   "nbconvert_exporter": "python",
   "pygments_lexer": "ipython3",
   "version": "3.6.9"
  },
  "toc": {
   "base_numbering": 1,
   "nav_menu": {},
   "number_sections": true,
   "sideBar": true,
   "skip_h1_title": false,
   "title_cell": "Table of Contents",
   "title_sidebar": "Contents",
   "toc_cell": true,
   "toc_position": {},
   "toc_section_display": true,
   "toc_window_display": false
  }
 },
 "nbformat": 4,
 "nbformat_minor": 4
}
