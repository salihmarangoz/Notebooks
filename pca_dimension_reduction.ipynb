{
 "cells": [
  {
   "cell_type": "markdown",
   "metadata": {
    "toc": true
   },
   "source": [
    "<h1>Table of Contents<span class=\"tocSkip\"></span></h1>\n",
    "<div class=\"toc\"><ul class=\"toc-item\"><li><span><a href=\"#PCA-Dimension-Reduction\" data-toc-modified-id=\"PCA-Dimension-Reduction-1\"><span class=\"toc-item-num\">1&nbsp;&nbsp;</span>PCA Dimension Reduction</a></span><ul class=\"toc-item\"><li><span><a href=\"#Load-Dataset\" data-toc-modified-id=\"Load-Dataset-1.1\"><span class=\"toc-item-num\">1.1&nbsp;&nbsp;</span>Load Dataset</a></span></li><li><span><a href=\"#PCA-Dimension-Reduction-(Scikit-Solution)\" data-toc-modified-id=\"PCA-Dimension-Reduction-(Scikit-Solution)-1.2\"><span class=\"toc-item-num\">1.2&nbsp;&nbsp;</span>PCA Dimension Reduction (Scikit Solution)</a></span></li><li><span><a href=\"#PCA-Dimension-Reduction-(My-Solution)\" data-toc-modified-id=\"PCA-Dimension-Reduction-(My-Solution)-1.3\"><span class=\"toc-item-num\">1.3&nbsp;&nbsp;</span>PCA Dimension Reduction (My Solution)</a></span><ul class=\"toc-item\"><li><span><a href=\"#Calculate-Mean\" data-toc-modified-id=\"Calculate-Mean-1.3.1\"><span class=\"toc-item-num\">1.3.1&nbsp;&nbsp;</span>Calculate Mean</a></span></li><li><span><a href=\"#Calculate-Covariance\" data-toc-modified-id=\"Calculate-Covariance-1.3.2\"><span class=\"toc-item-num\">1.3.2&nbsp;&nbsp;</span>Calculate Covariance</a></span></li><li><span><a href=\"#Apply-SVD-to-Covariance-Matrix\" data-toc-modified-id=\"Apply-SVD-to-Covariance-Matrix-1.3.3\"><span class=\"toc-item-num\">1.3.3&nbsp;&nbsp;</span>Apply SVD to Covariance Matrix</a></span></li><li><span><a href=\"#Apply-Dimension-Reduction\" data-toc-modified-id=\"Apply-Dimension-Reduction-1.3.4\"><span class=\"toc-item-num\">1.3.4&nbsp;&nbsp;</span>Apply Dimension Reduction</a></span></li><li><span><a href=\"#Reconstruct-Data-Using-Some-Principal-Components\" data-toc-modified-id=\"Reconstruct-Data-Using-Some-Principal-Components-1.3.5\"><span class=\"toc-item-num\">1.3.5&nbsp;&nbsp;</span>Reconstruct Data Using Some Principal Components</a></span></li><li><span><a href=\"#Calculate-Average-Truncation-Error\" data-toc-modified-id=\"Calculate-Average-Truncation-Error-1.3.6\"><span class=\"toc-item-num\">1.3.6&nbsp;&nbsp;</span>Calculate Average Truncation Error</a></span></li></ul></li></ul></li><li><span><a href=\"#PCA-Dimension-Reduction-Visualization\" data-toc-modified-id=\"PCA-Dimension-Reduction-Visualization-2\"><span class=\"toc-item-num\">2&nbsp;&nbsp;</span>PCA Dimension Reduction Visualization</a></span><ul class=\"toc-item\"><li><span><a href=\"#Generate-Data\" data-toc-modified-id=\"Generate-Data-2.1\"><span class=\"toc-item-num\">2.1&nbsp;&nbsp;</span>Generate Data</a></span></li><li><span><a href=\"#Apply-Dimension-Reduction\" data-toc-modified-id=\"Apply-Dimension-Reduction-2.2\"><span class=\"toc-item-num\">2.2&nbsp;&nbsp;</span>Apply Dimension Reduction</a></span></li><li><span><a href=\"#Plot-Principal-Components\" data-toc-modified-id=\"Plot-Principal-Components-2.3\"><span class=\"toc-item-num\">2.3&nbsp;&nbsp;</span>Plot Principal Components</a></span></li><li><span><a href=\"#Plot-Reconstructed-Data\" data-toc-modified-id=\"Plot-Reconstructed-Data-2.4\"><span class=\"toc-item-num\">2.4&nbsp;&nbsp;</span>Plot Reconstructed Data</a></span></li></ul></li></ul></div>"
   ]
  },
  {
   "cell_type": "markdown",
   "metadata": {
    "ExecuteTime": {
     "end_time": "2021-03-07T19:04:56.805035Z",
     "start_time": "2021-03-07T19:04:56.801344Z"
    }
   },
   "source": [
    "Source: Formulas are taken from Pattern Recognition (1) lecture in Uni-Bonn"
   ]
  },
  {
   "cell_type": "markdown",
   "metadata": {},
   "source": [
    "# PCA Dimension Reduction"
   ]
  },
  {
   "cell_type": "code",
   "execution_count": 16,
   "metadata": {
    "ExecuteTime": {
     "end_time": "2021-03-15T13:30:05.060662Z",
     "start_time": "2021-03-15T13:30:05.057923Z"
    }
   },
   "outputs": [],
   "source": [
    "import numpy as np\n",
    "import matplotlib.pyplot as plt\n",
    "from sklearn import datasets"
   ]
  },
  {
   "cell_type": "markdown",
   "metadata": {},
   "source": [
    "## Load Dataset"
   ]
  },
  {
   "cell_type": "code",
   "execution_count": 47,
   "metadata": {
    "ExecuteTime": {
     "end_time": "2021-03-15T13:34:57.505832Z",
     "start_time": "2021-03-15T13:34:57.501164Z"
    }
   },
   "outputs": [
    {
     "name": "stdout",
     "output_type": "stream",
     "text": [
      "x.shape: (150, 4)\n",
      "y.shape: (150,)\n"
     ]
    }
   ],
   "source": [
    "iris = datasets.load_iris()\n",
    "x = iris.data\n",
    "y = iris.target\n",
    "\n",
    "print(\"x.shape:\", x.shape)\n",
    "print(\"y.shape:\", y.shape)"
   ]
  },
  {
   "cell_type": "code",
   "execution_count": 56,
   "metadata": {
    "ExecuteTime": {
     "end_time": "2021-03-15T13:36:52.763483Z",
     "start_time": "2021-03-15T13:36:52.705384Z"
    }
   },
   "outputs": [
    {
     "name": "stdout",
     "output_type": "stream",
     "text": [
      "[5.1 3.5 1.4 0.2]  -->  0\n",
      "[4.9 3.  1.4 0.2]  -->  0\n",
      "[4.7 3.2 1.3 0.2]  -->  0\n",
      "[4.6 3.1 1.5 0.2]  -->  0\n",
      "[5.  3.6 1.4 0.2]  -->  0\n",
      "[5.4 3.9 1.7 0.4]  -->  0\n",
      "[4.6 3.4 1.4 0.3]  -->  0\n",
      "[5.  3.4 1.5 0.2]  -->  0\n",
      "[4.4 2.9 1.4 0.2]  -->  0\n",
      "[4.9 3.1 1.5 0.1]  -->  0\n",
      "[5.4 3.7 1.5 0.2]  -->  0\n",
      "[4.8 3.4 1.6 0.2]  -->  0\n",
      "[4.8 3.  1.4 0.1]  -->  0\n",
      "[4.3 3.  1.1 0.1]  -->  0\n",
      "[5.8 4.  1.2 0.2]  -->  0\n",
      "[5.7 4.4 1.5 0.4]  -->  0\n",
      "[5.4 3.9 1.3 0.4]  -->  0\n",
      "[5.1 3.5 1.4 0.3]  -->  0\n",
      "[5.7 3.8 1.7 0.3]  -->  0\n",
      "[5.1 3.8 1.5 0.3]  -->  0\n",
      "[5.4 3.4 1.7 0.2]  -->  0\n",
      "[5.1 3.7 1.5 0.4]  -->  0\n",
      "[4.6 3.6 1.  0.2]  -->  0\n",
      "[5.1 3.3 1.7 0.5]  -->  0\n",
      "[4.8 3.4 1.9 0.2]  -->  0\n",
      "[5.  3.  1.6 0.2]  -->  0\n",
      "[5.  3.4 1.6 0.4]  -->  0\n",
      "[5.2 3.5 1.5 0.2]  -->  0\n",
      "[5.2 3.4 1.4 0.2]  -->  0\n",
      "[4.7 3.2 1.6 0.2]  -->  0\n",
      "[4.8 3.1 1.6 0.2]  -->  0\n",
      "[5.4 3.4 1.5 0.4]  -->  0\n",
      "[5.2 4.1 1.5 0.1]  -->  0\n",
      "[5.5 4.2 1.4 0.2]  -->  0\n",
      "[4.9 3.1 1.5 0.2]  -->  0\n",
      "[5.  3.2 1.2 0.2]  -->  0\n",
      "[5.5 3.5 1.3 0.2]  -->  0\n",
      "[4.9 3.6 1.4 0.1]  -->  0\n",
      "[4.4 3.  1.3 0.2]  -->  0\n",
      "[5.1 3.4 1.5 0.2]  -->  0\n",
      "[5.  3.5 1.3 0.3]  -->  0\n",
      "[4.5 2.3 1.3 0.3]  -->  0\n",
      "[4.4 3.2 1.3 0.2]  -->  0\n",
      "[5.  3.5 1.6 0.6]  -->  0\n",
      "[5.1 3.8 1.9 0.4]  -->  0\n",
      "[4.8 3.  1.4 0.3]  -->  0\n",
      "[5.1 3.8 1.6 0.2]  -->  0\n",
      "[4.6 3.2 1.4 0.2]  -->  0\n",
      "[5.3 3.7 1.5 0.2]  -->  0\n",
      "[5.  3.3 1.4 0.2]  -->  0\n",
      "[7.  3.2 4.7 1.4]  -->  1\n",
      "[6.4 3.2 4.5 1.5]  -->  1\n",
      "[6.9 3.1 4.9 1.5]  -->  1\n",
      "[5.5 2.3 4.  1.3]  -->  1\n",
      "[6.5 2.8 4.6 1.5]  -->  1\n",
      "[5.7 2.8 4.5 1.3]  -->  1\n",
      "[6.3 3.3 4.7 1.6]  -->  1\n",
      "[4.9 2.4 3.3 1. ]  -->  1\n",
      "[6.6 2.9 4.6 1.3]  -->  1\n",
      "[5.2 2.7 3.9 1.4]  -->  1\n",
      "[5.  2.  3.5 1. ]  -->  1\n",
      "[5.9 3.  4.2 1.5]  -->  1\n",
      "[6.  2.2 4.  1. ]  -->  1\n",
      "[6.1 2.9 4.7 1.4]  -->  1\n",
      "[5.6 2.9 3.6 1.3]  -->  1\n",
      "[6.7 3.1 4.4 1.4]  -->  1\n",
      "[5.6 3.  4.5 1.5]  -->  1\n",
      "[5.8 2.7 4.1 1. ]  -->  1\n",
      "[6.2 2.2 4.5 1.5]  -->  1\n",
      "[5.6 2.5 3.9 1.1]  -->  1\n",
      "[5.9 3.2 4.8 1.8]  -->  1\n",
      "[6.1 2.8 4.  1.3]  -->  1\n",
      "[6.3 2.5 4.9 1.5]  -->  1\n",
      "[6.1 2.8 4.7 1.2]  -->  1\n",
      "[6.4 2.9 4.3 1.3]  -->  1\n",
      "[6.6 3.  4.4 1.4]  -->  1\n",
      "[6.8 2.8 4.8 1.4]  -->  1\n",
      "[6.7 3.  5.  1.7]  -->  1\n",
      "[6.  2.9 4.5 1.5]  -->  1\n",
      "[5.7 2.6 3.5 1. ]  -->  1\n",
      "[5.5 2.4 3.8 1.1]  -->  1\n",
      "[5.5 2.4 3.7 1. ]  -->  1\n",
      "[5.8 2.7 3.9 1.2]  -->  1\n",
      "[6.  2.7 5.1 1.6]  -->  1\n",
      "[5.4 3.  4.5 1.5]  -->  1\n",
      "[6.  3.4 4.5 1.6]  -->  1\n",
      "[6.7 3.1 4.7 1.5]  -->  1\n",
      "[6.3 2.3 4.4 1.3]  -->  1\n",
      "[5.6 3.  4.1 1.3]  -->  1\n",
      "[5.5 2.5 4.  1.3]  -->  1\n",
      "[5.5 2.6 4.4 1.2]  -->  1\n",
      "[6.1 3.  4.6 1.4]  -->  1\n",
      "[5.8 2.6 4.  1.2]  -->  1\n",
      "[5.  2.3 3.3 1. ]  -->  1\n",
      "[5.6 2.7 4.2 1.3]  -->  1\n",
      "[5.7 3.  4.2 1.2]  -->  1\n",
      "[5.7 2.9 4.2 1.3]  -->  1\n",
      "[6.2 2.9 4.3 1.3]  -->  1\n",
      "[5.1 2.5 3.  1.1]  -->  1\n",
      "[5.7 2.8 4.1 1.3]  -->  1\n",
      "[6.3 3.3 6.  2.5]  -->  2\n",
      "[5.8 2.7 5.1 1.9]  -->  2\n",
      "[7.1 3.  5.9 2.1]  -->  2\n",
      "[6.3 2.9 5.6 1.8]  -->  2\n",
      "[6.5 3.  5.8 2.2]  -->  2\n",
      "[7.6 3.  6.6 2.1]  -->  2\n",
      "[4.9 2.5 4.5 1.7]  -->  2\n",
      "[7.3 2.9 6.3 1.8]  -->  2\n",
      "[6.7 2.5 5.8 1.8]  -->  2\n",
      "[7.2 3.6 6.1 2.5]  -->  2\n",
      "[6.5 3.2 5.1 2. ]  -->  2\n",
      "[6.4 2.7 5.3 1.9]  -->  2\n",
      "[6.8 3.  5.5 2.1]  -->  2\n",
      "[5.7 2.5 5.  2. ]  -->  2\n",
      "[5.8 2.8 5.1 2.4]  -->  2\n",
      "[6.4 3.2 5.3 2.3]  -->  2\n",
      "[6.5 3.  5.5 1.8]  -->  2\n",
      "[7.7 3.8 6.7 2.2]  -->  2\n",
      "[7.7 2.6 6.9 2.3]  -->  2\n",
      "[6.  2.2 5.  1.5]  -->  2\n",
      "[6.9 3.2 5.7 2.3]  -->  2\n",
      "[5.6 2.8 4.9 2. ]  -->  2\n",
      "[7.7 2.8 6.7 2. ]  -->  2\n",
      "[6.3 2.7 4.9 1.8]  -->  2\n",
      "[6.7 3.3 5.7 2.1]  -->  2\n",
      "[7.2 3.2 6.  1.8]  -->  2\n",
      "[6.2 2.8 4.8 1.8]  -->  2\n",
      "[6.1 3.  4.9 1.8]  -->  2\n",
      "[6.4 2.8 5.6 2.1]  -->  2\n",
      "[7.2 3.  5.8 1.6]  -->  2\n",
      "[7.4 2.8 6.1 1.9]  -->  2\n",
      "[7.9 3.8 6.4 2. ]  -->  2\n",
      "[6.4 2.8 5.6 2.2]  -->  2\n",
      "[6.3 2.8 5.1 1.5]  -->  2\n",
      "[6.1 2.6 5.6 1.4]  -->  2\n",
      "[7.7 3.  6.1 2.3]  -->  2\n",
      "[6.3 3.4 5.6 2.4]  -->  2\n",
      "[6.4 3.1 5.5 1.8]  -->  2\n",
      "[6.  3.  4.8 1.8]  -->  2\n",
      "[6.9 3.1 5.4 2.1]  -->  2\n",
      "[6.7 3.1 5.6 2.4]  -->  2\n",
      "[6.9 3.1 5.1 2.3]  -->  2\n",
      "[5.8 2.7 5.1 1.9]  -->  2\n",
      "[6.8 3.2 5.9 2.3]  -->  2\n",
      "[6.7 3.3 5.7 2.5]  -->  2\n",
      "[6.7 3.  5.2 2.3]  -->  2\n",
      "[6.3 2.5 5.  1.9]  -->  2\n",
      "[6.5 3.  5.2 2. ]  -->  2\n",
      "[6.2 3.4 5.4 2.3]  -->  2\n",
      "[5.9 3.  5.1 1.8]  -->  2\n"
     ]
    }
   ],
   "source": [
    "for x_, y_ in zip(x,y):\n",
    "    print(x_, \" --> \", y_)"
   ]
  },
  {
   "cell_type": "markdown",
   "metadata": {},
   "source": [
    "## PCA Dimension Reduction (Scikit Solution)\n",
    "\n",
    "Source: https://scikit-learn.org/stable/auto_examples/decomposition/plot_pca_iris.html"
   ]
  },
  {
   "cell_type": "code",
   "execution_count": 18,
   "metadata": {
    "ExecuteTime": {
     "end_time": "2021-03-15T13:30:05.587524Z",
     "start_time": "2021-03-15T13:30:05.358751Z"
    }
   },
   "outputs": [
    {
     "data": {
      "image/png": "[encoded data removed]",
      "text/plain": [
       "<Figure size 432x288 with 1 Axes>"
      ]
     },
     "metadata": {
      "needs_background": "light"
     },
     "output_type": "display_data"
    }
   ],
   "source": [
    "from sklearn import decomposition\n",
    "\n",
    "pca = decomposition.PCA(n_components=2)\n",
    "pca.fit(x)\n",
    "X = pca.transform(x)\n",
    "\n",
    "# Reorder the labels to have colors matching the cluster results\n",
    "Y = np.choose(y, [1, 2, 0]).astype(float)\n",
    "_=plt.scatter(X[:, 0], X[:, 1], c=Y, cmap=plt.cm.nipy_spectral, edgecolor='k')\n",
    "_=plt.xlabel(\"First Component\")\n",
    "_=plt.ylabel(\"Second Component\")"
   ]
  },
  {
   "cell_type": "markdown",
   "metadata": {},
   "source": [
    "## PCA Dimension Reduction (My Solution)"
   ]
  },
  {
   "cell_type": "markdown",
   "metadata": {},
   "source": [
    "### Calculate Mean"
   ]
  },
  {
   "cell_type": "markdown",
   "metadata": {},
   "source": [
    "$$\n",
    "\\mu_{ML} = \\frac{1}{N} \\sum_i^N x_i\n",
    "$$"
   ]
  },
  {
   "cell_type": "code",
   "execution_count": 19,
   "metadata": {
    "ExecuteTime": {
     "end_time": "2021-03-15T13:30:05.595829Z",
     "start_time": "2021-03-15T13:30:05.589532Z"
    }
   },
   "outputs": [
    {
     "name": "stdout",
     "output_type": "stream",
     "text": [
      "mu_x: [5.843 3.057 3.758 1.199]\n",
      "Note: Numbers are rounded for simplicity\n"
     ]
    }
   ],
   "source": [
    "def calc_mean(x):\n",
    "    return np.mean(x, axis=0)\n",
    "\n",
    "mu_x = calc_mean(x)\n",
    "print(\"mu_x:\", np.round(mu_x, 3))\n",
    "print(\"Note: Numbers are rounded for simplicity\")"
   ]
  },
  {
   "cell_type": "markdown",
   "metadata": {},
   "source": [
    "### Calculate Covariance"
   ]
  },
  {
   "cell_type": "markdown",
   "metadata": {},
   "source": [
    "$$\n",
    "\\sigma^2_{ML} = \\frac{1}{N} \\sum_i^N (x_i - \\mu_{ML})^2\n",
    "$$"
   ]
  },
  {
   "cell_type": "code",
   "execution_count": 20,
   "metadata": {
    "ExecuteTime": {
     "end_time": "2021-03-15T13:30:05.692871Z",
     "start_time": "2021-03-15T13:30:05.598077Z"
    }
   },
   "outputs": [
    {
     "name": "stdout",
     "output_type": "stream",
     "text": [
      "cov_x:\n",
      " [[ 0.681 -0.042  1.266  0.513]\n",
      " [-0.042  0.189 -0.327 -0.121]\n",
      " [ 1.266 -0.327  3.096  1.287]\n",
      " [ 0.513 -0.121  1.287  0.577]]\n",
      "Note: Numbers are rounded for simplicity\n"
     ]
    }
   ],
   "source": [
    "def calc_cov(x):\n",
    "    n = x.shape[0] # number of samples\n",
    "    x_norm = x - calc_mean(x) # normalized x\n",
    "    cov = (1/n) * x_norm.T @ x_norm # estimating cov\n",
    "    return cov\n",
    "\n",
    "cov_x = calc_cov(x)\n",
    "print(\"cov_x:\\n\", np.round(cov_x, 3))\n",
    "print(\"Note: Numbers are rounded for simplicity\")"
   ]
  },
  {
   "cell_type": "markdown",
   "metadata": {},
   "source": [
    "### Apply SVD to Covariance Matrix"
   ]
  },
  {
   "cell_type": "markdown",
   "metadata": {},
   "source": [
    "$$\n",
    "cov(X) = C = U \\Lambda U^T \\\\\n",
    "$$"
   ]
  },
  {
   "cell_type": "code",
   "execution_count": 21,
   "metadata": {
    "ExecuteTime": {
     "end_time": "2021-03-15T13:30:05.785344Z",
     "start_time": "2021-03-15T13:30:05.694363Z"
    }
   },
   "outputs": [
    {
     "name": "stdout",
     "output_type": "stream",
     "text": [
      "C:\n",
      " [[ 0.681 -0.042  1.266  0.513]\n",
      " [-0.042  0.189 -0.327 -0.121]\n",
      " [ 1.266 -0.327  3.096  1.287]\n",
      " [ 0.513 -0.121  1.287  0.577]]\n",
      "Note: Numbers are rounded for simplicity\n"
     ]
    }
   ],
   "source": [
    "# Applying SVD to covariance matrix and reconstructing it\n",
    "\n",
    "u, s, vh = np.linalg.svd(cov_x)   # Apply SVD \n",
    "C = u @ (s*np.eye(4)) @ u.T       # Reconstruct C == cov(x)\n",
    "\n",
    "print(\"C:\\n\", np.round(C, 3))\n",
    "print(\"Note: Numbers are rounded for simplicity\")"
   ]
  },
  {
   "cell_type": "markdown",
   "metadata": {},
   "source": [
    "### Apply Dimension Reduction"
   ]
  },
  {
   "cell_type": "markdown",
   "metadata": {},
   "source": [
    "$$\n",
    "X = (U U^T) X = U (U^T X) = UH\n",
    "$$\n",
    "\n",
    "Note: Formula above is for column-matrix forms. Data $x$ is in row-matrix form so we are using it's transpose in the code. For covariance since `cov_x = cov_x.T` it doesn't matter."
   ]
  },
  {
   "cell_type": "code",
   "execution_count": 22,
   "metadata": {
    "ExecuteTime": {
     "end_time": "2021-03-15T13:30:06.047973Z",
     "start_time": "2021-03-15T13:30:05.787121Z"
    },
    "scrolled": true
   },
   "outputs": [
    {
     "data": {
      "image/png": "[encoded data removed]",
      "text/plain": [
       "<Figure size 432x288 with 1 Axes>"
      ]
     },
     "metadata": {
      "needs_background": "light"
     },
     "output_type": "display_data"
    }
   ],
   "source": [
    "# Dimension Reduction\n",
    "\n",
    "x_ = x - mu_x           # Normalize x\n",
    "u_ = u[:,:2]            # Keep best 2 out of 4 principal components\n",
    "h = (u_.T @ x_.T).T     # Reconstruct using 2 best components \n",
    "\n",
    "# Visualize\n",
    "h_ = h*-1               # Somehow Scipy multiplies data with -1. To make my solution look same I did it too\n",
    "Y = np.choose(y, [1, 2, 0]).astype(float)\n",
    "_=plt.scatter(h_[:,0], h_[:,1], c=Y, edgecolor='k')\n",
    "_=plt.xlabel(\"First Component\")\n",
    "_=plt.ylabel(\"Second Component\")"
   ]
  },
  {
   "cell_type": "markdown",
   "metadata": {
    "ExecuteTime": {
     "end_time": "2021-03-07T18:53:58.717948Z",
     "start_time": "2021-03-07T18:53:58.715952Z"
    }
   },
   "source": [
    "### Reconstruct Data Using Some Principal Components"
   ]
  },
  {
   "cell_type": "markdown",
   "metadata": {
    "ExecuteTime": {
     "end_time": "2021-03-07T18:46:25.044721Z",
     "start_time": "2021-03-07T18:46:25.042195Z"
    }
   },
   "source": [
    "$$\n",
    "X = UH\n",
    "$$"
   ]
  },
  {
   "cell_type": "code",
   "execution_count": 23,
   "metadata": {
    "ExecuteTime": {
     "end_time": "2021-03-15T13:30:06.051653Z",
     "start_time": "2021-03-15T13:30:06.049220Z"
    }
   },
   "outputs": [],
   "source": [
    "# Reconstruct data from dimension reduction applied data space\n",
    "\n",
    "x_reduced = (u_ @ h.T).T\n",
    "x_reduced += mu_x"
   ]
  },
  {
   "cell_type": "markdown",
   "metadata": {},
   "source": [
    "### Calculate Average Truncation Error"
   ]
  },
  {
   "cell_type": "markdown",
   "metadata": {
    "ExecuteTime": {
     "end_time": "2021-03-07T16:39:12.917066Z",
     "start_time": "2021-03-07T16:39:12.914113Z"
    }
   },
   "source": [
    "$$\n",
    "\\epsilon = \\frac{1}{N} \\sum_i ||\\vec x_i - \\vec y_i ||^2 = \\sum^m_{j=k+1} \\lambda_j\n",
    "$$"
   ]
  },
  {
   "cell_type": "code",
   "execution_count": 24,
   "metadata": {
    "ExecuteTime": {
     "end_time": "2021-03-15T13:30:06.131545Z",
     "start_time": "2021-03-15T13:30:06.053539Z"
    }
   },
   "outputs": [
    {
     "name": "stdout",
     "output_type": "stream",
     "text": [
      "Average Truncation Error (Method-1): 0.10136429572959299\n",
      "Average Truncation Error (Method-2): 0.10136429572959303\n"
     ]
    }
   ],
   "source": [
    "# Method-1 using the first expression\n",
    "def avg_truncation_error_1(x_reduced, x_norm):\n",
    "    return np.sum(np.linalg.norm(x_reduced - x_norm, axis=1)**2 / x.shape[0])\n",
    "\n",
    "# Method-2 using the first expression\n",
    "def avg_truncation_error_2(s, k):\n",
    "    return np.sum( s[k+1:] )  \n",
    "\n",
    "print(\"Average Truncation Error (Method-1):\", avg_truncation_error_1(x_reduced, x))\n",
    "print(\"Average Truncation Error (Method-2):\", avg_truncation_error_2(s, 1))"
   ]
  },
  {
   "cell_type": "code",
   "execution_count": 25,
   "metadata": {
    "ExecuteTime": {
     "end_time": "2021-03-15T13:30:06.214359Z",
     "start_time": "2021-03-15T13:30:06.133105Z"
    }
   },
   "outputs": [
    {
     "name": "stdout",
     "output_type": "stream",
     "text": [
      "Average Truncation Error (For Sklearn Solution): 0.10136429572959299\n"
     ]
    }
   ],
   "source": [
    "# Check error with the Sklearn solution\n",
    "\n",
    "x_reduced_sklearn = pca.inverse_transform(X)\n",
    "print(\"Average Truncation Error (For Sklearn Solution):\", avg_truncation_error_1(x_reduced_sklearn, x))"
   ]
  },
  {
   "cell_type": "markdown",
   "metadata": {},
   "source": [
    "# PCA Dimension Reduction Visualization"
   ]
  },
  {
   "cell_type": "markdown",
   "metadata": {},
   "source": [
    "## Generate Data"
   ]
  },
  {
   "cell_type": "code",
   "execution_count": 26,
   "metadata": {
    "ExecuteTime": {
     "end_time": "2021-03-15T13:30:06.522307Z",
     "start_time": "2021-03-15T13:30:06.216306Z"
    }
   },
   "outputs": [
    {
     "data": {
      "image/png": "[encoded data removed]",
      "text/plain": [
       "<Figure size 432x288 with 1 Axes>"
      ]
     },
     "metadata": {
      "needs_background": "light"
     },
     "output_type": "display_data"
    }
   ],
   "source": [
    "mean = [1, 2]\n",
    "cov = [[1, -0.5], [-0.5, 1]]  # diagonal covariance\n",
    "x = np.random.multivariate_normal(mean, cov, 500)\n",
    "plt.axis('equal')\n",
    "plt.plot(x[:,0], x[:,1], \".\", label=\"$X$\")\n",
    "plt.xlabel(\"$X_1$\")\n",
    "plt.ylabel(\"$X_2$\")\n",
    "_=plt.legend()"
   ]
  },
  {
   "cell_type": "markdown",
   "metadata": {},
   "source": [
    "## Apply Dimension Reduction"
   ]
  },
  {
   "cell_type": "code",
   "execution_count": 27,
   "metadata": {
    "ExecuteTime": {
     "end_time": "2021-03-15T13:30:06.532895Z",
     "start_time": "2021-03-15T13:30:06.524124Z"
    }
   },
   "outputs": [
    {
     "name": "stdout",
     "output_type": "stream",
     "text": [
      "mu_x: [1.088 1.958] \n",
      "\n",
      "cov_x:\n",
      " [[ 1.071 -0.516]\n",
      " [-0.516  1.025]] \n",
      "\n",
      "u (eigen vectors):\n",
      " [[-0.72265124  0.69121283]\n",
      " [ 0.69121283  0.72265124]] \n",
      "\n",
      "s (eigen values): [1.56428395 0.53152447] \n",
      "\n",
      "u_:\n",
      " [[-0.72265124]\n",
      " [ 0.69121283]] \n",
      "\n"
     ]
    }
   ],
   "source": [
    "mu_x = calc_mean(x)\n",
    "print(\"mu_x:\", np.round(mu_x, 3),\"\\n\")\n",
    "\n",
    "cov_x = calc_cov(x)\n",
    "print(\"cov_x:\\n\", np.round(cov_x, 3),\"\\n\")\n",
    "\n",
    "# Apply SVD\n",
    "u, s, vh = np.linalg.svd(cov_x)   \n",
    "print(\"u (eigen vectors):\\n\", u,\"\\n\")\n",
    "print(\"s (eigen values):\", s,\"\\n\")\n",
    "\n",
    "# Dimension Reduction\n",
    "x_ = x - mu_x           # Normalize x\n",
    "u_ = u[:,:1]            # Keep best 1 out of 2 principal components\n",
    "h = (u_.T @ x_.T).T     # Reconstruct using 2 best components\n",
    "print(\"u_:\\n\", u_,\"\\n\")\n",
    "\n",
    "# Reconstruct data from dimension reduction applied data\n",
    "x_reduced = (u_ @ h.T).T\n",
    "x_reduced += mu_x"
   ]
  },
  {
   "cell_type": "markdown",
   "metadata": {},
   "source": [
    "## Plot Principal Components"
   ]
  },
  {
   "cell_type": "code",
   "execution_count": 28,
   "metadata": {
    "ExecuteTime": {
     "end_time": "2021-03-15T13:30:06.800690Z",
     "start_time": "2021-03-15T13:30:06.534563Z"
    }
   },
   "outputs": [
    {
     "data": {
      "image/png": "[encoded data removed]",
      "text/plain": [
       "<Figure size 432x288 with 1 Axes>"
      ]
     },
     "metadata": {
      "needs_background": "light"
     },
     "output_type": "display_data"
    }
   ],
   "source": [
    "x0, y0, u0, v0 = mu_x[0], mu_x[1], u[0,0]*s[0], u[0,1]*s[0]\n",
    "x1, y1, u1, v1 = mu_x[0], mu_x[1], u[1,0]*s[1], u[1,1]*s[1]\n",
    "\n",
    "plt.plot(x[:,0], x[:,1], \".\", label=\"$X$\")\n",
    "plt.quiver(x0, y0, u0, v0, units='xy' ,scale=0.4, zorder=5.0, label=\"First Component\", color=\"g\")\n",
    "plt.quiver(x1, y1, u1, v1, units='xy' ,scale=0.4, zorder=5.0, label=\"Second Component\", color=\"r\")\n",
    "plt.xlabel(\"$X_1$\")\n",
    "plt.ylabel(\"$X_2$\")\n",
    "plt.axis('equal')\n",
    "_=plt.legend()"
   ]
  },
  {
   "cell_type": "markdown",
   "metadata": {},
   "source": [
    "## Plot Reconstructed Data"
   ]
  },
  {
   "cell_type": "code",
   "execution_count": 29,
   "metadata": {
    "ExecuteTime": {
     "end_time": "2021-03-15T13:30:06.992939Z",
     "start_time": "2021-03-15T13:30:06.802536Z"
    }
   },
   "outputs": [
    {
     "data": {
      "image/png": "[encoded data removed]",
      "text/plain": [
       "<Figure size 432x288 with 1 Axes>"
      ]
     },
     "metadata": {
      "needs_background": "light"
     },
     "output_type": "display_data"
    }
   ],
   "source": [
    "plt.axis('equal')\n",
    "plt.plot(x[:,0], x[:,1], \".\", label=\"$X$\")\n",
    "plt.plot(x_reduced[:,0], x_reduced[:,1], \".\", label=\"Reconstructed $X$\")\n",
    "plt.xlabel(\"$X_1$\")\n",
    "plt.ylabel(\"$X_2$\")\n",
    "_=plt.legend()"
   ]
  }
 ],
 "metadata": {
  "kernelspec": {
   "display_name": "Python 3 (myenv)",
   "language": "python",
   "name": "myenv"
  },
  "language_info": {
   "codemirror_mode": {
    "name": "ipython",
    "version": 3
   },
   "file_extension": ".py",
   "mimetype": "text/x-python",
   "name": "python",
   "nbconvert_exporter": "python",
   "pygments_lexer": "ipython3",
   "version": "3.7.10"
  },
  "toc": {
   "base_numbering": 1,
   "nav_menu": {},
   "number_sections": true,
   "sideBar": true,
   "skip_h1_title": false,
   "title_cell": "Table of Contents",
   "title_sidebar": "Contents",
   "toc_cell": true,
   "toc_position": {},
   "toc_section_display": true,
   "toc_window_display": false
  }
 },
 "nbformat": 4,
 "nbformat_minor": 4
}
